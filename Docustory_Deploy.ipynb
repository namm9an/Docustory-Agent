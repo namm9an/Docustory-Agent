{
 "cells": [
  {
   "cell_type": "markdown",
   "metadata": {},
   "source": [
    "# 🚀 Docustory.in Deployment\n",
    "One-click deployment script for FastAPI backend + Streamlit frontend"
   ]
  },
  {
   "cell_type": "markdown",
   "metadata": {},
   "source": [
    "## 📋 Quick Commands\n",
    "Use these cells to manage your Docustory.in application:"
   ]
  },
  {
   "cell_type": "code",
   "execution_count": null,
   "metadata": {},
   "outputs": [],
   "source": [
    "# 🚀 DEPLOY EVERYTHING\n",
    "# Run this cell to start both backend and frontend\n",
    "\n",
    "import sys\n",
    "sys.path.append('.')\n",
    "from deploy_docustory import deploy\n",
    "\n",
    "deploy()"
   ]
  },
  {
   "cell_type": "code",
   "execution_count": null,
   "metadata": {},
   "outputs": [],
   "source": [
    "# 📊 CHECK STATUS\n",
    "# Run this cell to check if services are running\n",
    "\n",
    "from deploy_docustory import status\n",
    "\n",
    "status()"
   ]
  },
  {
   "cell_type": "code",
   "execution_count": null,
   "metadata": {},
   "outputs": [],
   "source": [
    "# 🛑 STOP SERVICES\n",
    "# Run this cell to stop all services\n",
    "\n",
    "from deploy_docustory import stop\n",
    "\n",
    "stop()"
   ]
  },
  {
   "cell_type": "markdown",
   "metadata": {},
   "source": [
    "## 🔗 Access Links\n",
    "After deployment, access your application at:\n",
    "\n",
    "- **Frontend (Streamlit)**: http://localhost:8501 or http://192.168.2.183:8501\n",
    "- **Backend (FastAPI)**: http://localhost:8000 or http://192.168.2.183:8000\n",
    "- **API Docs**: http://localhost:8000/docs"
   ]
  },
  {
   "cell_type": "markdown",
   "metadata": {},
   "source": [
    "## 🔧 Manual Commands (if needed)\n",
    "Advanced deployment options:"
   ]
  },
  {
   "cell_type": "code",
   "execution_count": null,
   "metadata": {},
   "outputs": [],
   "source": [
    "# Install dependencies (run once)\n",
    "!pip install -r requirements.txt"
   ]
  },
  {
   "cell_type": "code",
   "execution_count": null,
   "metadata": {},
   "outputs": [],
   "source": [
    "# Start backend only\n",
    "!uvicorn app.main:app --host 0.0.0.0 --port 8000 --reload &"
   ]
  },
  {
   "cell_type": "code",
   "execution_count": null,
   "metadata": {},
   "outputs": [],
   "source": [
    "# Start frontend only\n",
    "!streamlit run simple_chat_app.py --server.address 0.0.0.0 --server.port 8501 &"
   ]
  },
  {
   "cell_type": "code",
   "execution_count": null,
   "metadata": {},
   "outputs": [],
   "source": [
    "# Kill all services\n",
    "!pkill -f \"uvicorn.*8000\" || true\n",
    "!pkill -f \"streamlit.*8501\" || true"
   ]
  }
 ],
 "metadata": {
  "kernelspec": {
   "display_name": "Python 3",
   "language": "python",
   "name": "python3"
  },
  "language_info": {
   "codemirror_mode": {
    "name": "ipython",
    "version": 3
   },
   "file_extension": ".py",
   "mimetype": "text/x-python",
   "name": "python",
   "nbconvert_exporter": "python",
   "pygments_lexer": "ipython3",
   "version": "3.11.0"
  }
 },
 "nbformat": 4,
 "nbformat_minor": 4
}